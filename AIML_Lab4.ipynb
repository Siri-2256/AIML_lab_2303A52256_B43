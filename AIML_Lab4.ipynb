{
  "nbformat": 4,
  "nbformat_minor": 0,
  "metadata": {
    "colab": {
      "provenance": [],
      "authorship_tag": "ABX9TyNgXgZo3bJdHtmVPcO+sIMN",
      "include_colab_link": true
    },
    "kernelspec": {
      "name": "python3",
      "display_name": "Python 3"
    },
    "language_info": {
      "name": "python"
    }
  },
  "cells": [
    {
      "cell_type": "markdown",
      "metadata": {
        "id": "view-in-github",
        "colab_type": "text"
      },
      "source": [
        "<a href=\"https://colab.research.google.com/github/Siri-2256/AIML_lab_2303A52256_B43/blob/main/AIML_Lab4.ipynb\" target=\"_parent\"><img src=\"https://colab.research.google.com/assets/colab-badge.svg\" alt=\"Open In Colab\"/></a>"
      ]
    },
    {
      "cell_type": "code",
      "execution_count": null,
      "metadata": {
        "id": "YDcHmDq7EqZl",
        "colab": {
          "base_uri": "https://localhost:8080/"
        },
        "outputId": "4f7f7118-25ad-4cdb-ab75-bab9b9729ea9"
      },
      "outputs": [
        {
          "output_type": "stream",
          "name": "stdout",
          "text": [
            "['B', 'A', 'C', 'D', 'E', 'H', 'G', 'F']\n"
          ]
        }
      ],
      "source": [
        "graph1 = {\n",
        "   'A' : ['B','C','G'],\n",
        "   'B' : ['A'],\n",
        "   'C' : ['A','D','F'],\n",
        "   'D' : ['A','C','E','H'],\n",
        "   'E' : ['D','H','F'],\n",
        "   'F' : ['C','E'],\n",
        "   'G' : ['A','D','H'],\n",
        "   'H' : ['D','E','G'],\n",
        "\n",
        "  }\n",
        "\n",
        "def dfs(graph, node, visited):\n",
        "     if node not in visited:\n",
        "         visited.append(node)\n",
        "         for k in graph[node]:\n",
        "                  dfs(graph,k, visited)\n",
        "     return visited\n",
        "\n",
        "visited = dfs(graph1,'B', [])\n",
        "print(visited)\n"
      ]
    },
    {
      "cell_type": "code",
      "source": [
        "from copy import deepcopy\n",
        "import numpy as np\n",
        "import time\n",
        "\n",
        "def bestsolution(state):\n",
        "  bestsol = np.array([], int).reshape(-1, 9)\n",
        "  count = len(state) - 1\n",
        "  while count !=-1:\n",
        "    bestsol = np.insert(bestsol, 0, state[count]['puzzle'], 0)\n",
        "    count = (state[count]['parent'])\n",
        "  return bestsol.reshape(-1, 3, 3)\n",
        "\n",
        "#checks for the uniqueness of the iteration(it).\n",
        "\n",
        "def all(checkarray):\n",
        "  set=[]\n",
        "  for it in set:\n",
        "   for checkarray in it:\n",
        "     return 1\n",
        "   else:\n",
        "    return 0\n",
        "\n",
        "# number of misplaced tiles\n",
        "def misplaced_tiles(puzzle,goal):\n",
        " mscost = np.sum(puzzle != goal) - 1\n",
        " return mscost if mscost > 0 else 0\n",
        "\n",
        "\n",
        "def coordinates(puzzle):\n",
        " pos = np.array(range(9))\n",
        " for p, q in enumerate(puzzle):\n",
        "   pos[q] = p\n",
        " return pos\n",
        "\n",
        "# start of 8 puzzle evaluvation, using Misplaced tiles heuristics\n",
        "def evaluvate_misplaced(puzzle, goal):\n",
        "  steps = np.array([('up', [0, 1, 2], -3),('down', [6, 7, 8],  3),('left', [0, 3, 6], -1),('right', [2, 5, 8],  1)],\n",
        "  dtype =  [('move',  str, 1),('position', list),('head', int)])\n",
        "  dtstate = [('puzzle',  list),('parent', int),('gn',  int),('hn',  int)]\n",
        "  costg = coordinates(goal)\n",
        "\n",
        "# initializing the parent, gn and hn, where hn is misplaced_tiles  function call\n",
        "  parent = -1\n",
        "  gn = 0\n",
        "  hn = misplaced_tiles(coordinates(puzzle), costg)\n",
        "  state = np.array([(puzzle, parent, gn, hn)], dtstate)\n",
        "#priority queues with position as keys and fn as value.\n",
        "  dtpriority = [('position', int),('fn', int)]\n",
        "  priority = np.array([(0, hn)], dtpriority)\n",
        "  while 1:\n",
        "   priority = np.sort(priority, kind='mergesort', order=['fn', 'position'])\n",
        "   position, fn = priority[0]\n",
        "# sort priority queue using merge sort,the first element is picked for exploring.\n",
        "   priority = np.delete(priority, 0, 0)\n",
        "   puzzle, parent, gn, hn = state[position]\n",
        "   puzzle = np.array(puzzle)\n",
        "\n",
        "   blank = int(np.where(puzzle == 0)[0])\n",
        "\n",
        "   gn = gn + 1\n",
        "   c = 1\n",
        "   start_time = time.time()\n",
        "   for s in steps:\n",
        "     c = c + 1\n",
        "     if blank not in s['position']:\n",
        "      openstates = deepcopy(puzzle)\n",
        "      openstates[blank], openstates[blank + s['head']] = openstates[blank + s['head']], openstates[blank]\n",
        "\n",
        "      if ~(np.all(list(state['puzzle']) == openstates, 1)).any():\n",
        "        end_time = time.time()\n",
        "        if (( end_time - start_time ) > 2):\n",
        "           print(\" The 8 puzzle is unsolvable \\n\")\n",
        "           break\n",
        "\n",
        "           hn = misplaced_tiles(coordinates(openstates), costg)\n",
        "# generate and add new state in the list\n",
        "           q = np.array([(openstates, position, gn, hn)], dtstate)\n",
        "           state = np.append(state, q, 0)\n",
        " # f(n) is the sum of cost to reach node\n",
        "           fn = gn + hn\n",
        "\n",
        "           q = np.array([(len(state) - 1, fn)], dtpriority)\n",
        "           priority = np.append(priority, q, 0)\n",
        "\n",
        "           if np.array_equal(openstates, goal):\n",
        "             print(' The 8 puzzle is solvable \\n')\n",
        "             return state, len(priority)\n",
        "  return state,len(priority)\n",
        "\n",
        "\n",
        "# initial state\n",
        "puzzle = []\n",
        "puzzle.append(2)\n",
        "puzzle.append(8)\n",
        "puzzle.append(3)\n",
        "puzzle.append(1)\n",
        "puzzle.append(6)\n",
        "puzzle.append(4)\n",
        "puzzle.append(7)\n",
        "puzzle.append(0)\n",
        "puzzle.append(5)\n",
        "\n",
        "#goal state\n",
        "goal = []\n",
        "goal.append(1)\n",
        "goal.append(2)\n",
        "goal.append(3)\n",
        "goal.append(8)\n",
        "goal.append(0)\n",
        "goal.append(4)\n",
        "goal.append(7)\n",
        "goal.append(6)\n",
        "goal.append(5)\n",
        "state, visited = evaluvate_misplaced(puzzle, goal)\n",
        "bestpath = bestsolution(state)\n",
        "print(str(bestpath).replace('[', ' ').replace(']', ''))\n",
        "totalmoves = len(bestpath) - 1\n",
        "print('\\nSteps to reach goal:',totalmoves)\n",
        "visit = len(state) - visited\n",
        "print('Total nodes visited: ',visit,\"\\n\")\n",
        "\n"
      ],
      "metadata": {
        "colab": {
          "base_uri": "https://localhost:8080/",
          "height": 387
        },
        "id": "Pj0PGAa8Xl18",
        "outputId": "2bb4be41-5367-4942-dfca-9827397fcf88"
      },
      "execution_count": null,
      "outputs": [
        {
          "output_type": "stream",
          "name": "stderr",
          "text": [
            "<ipython-input-1-5bbd791540fa>:58: DeprecationWarning: Conversion of an array with ndim > 0 to a scalar is deprecated, and will error in future. Ensure you extract a single element from your array before performing this operation. (Deprecated NumPy 1.25.)\n",
            "  blank = int(np.where(puzzle == 0)[0])\n"
          ]
        },
        {
          "output_type": "error",
          "ename": "IndexError",
          "evalue": "index 0 is out of bounds for axis 0 with size 0",
          "traceback": [
            "\u001b[0;31m---------------------------------------------------------------------------\u001b[0m",
            "\u001b[0;31mIndexError\u001b[0m                                Traceback (most recent call last)",
            "\u001b[0;32m<ipython-input-1-5bbd791540fa>\u001b[0m in \u001b[0;36m<cell line: 114>\u001b[0;34m()\u001b[0m\n\u001b[1;32m    112\u001b[0m \u001b[0mgoal\u001b[0m\u001b[0;34m.\u001b[0m\u001b[0mappend\u001b[0m\u001b[0;34m(\u001b[0m\u001b[0;36m6\u001b[0m\u001b[0;34m)\u001b[0m\u001b[0;34m\u001b[0m\u001b[0;34m\u001b[0m\u001b[0m\n\u001b[1;32m    113\u001b[0m \u001b[0mgoal\u001b[0m\u001b[0;34m.\u001b[0m\u001b[0mappend\u001b[0m\u001b[0;34m(\u001b[0m\u001b[0;36m5\u001b[0m\u001b[0;34m)\u001b[0m\u001b[0;34m\u001b[0m\u001b[0;34m\u001b[0m\u001b[0m\n\u001b[0;32m--> 114\u001b[0;31m \u001b[0mstate\u001b[0m\u001b[0;34m,\u001b[0m \u001b[0mvisited\u001b[0m \u001b[0;34m=\u001b[0m \u001b[0mevaluvate_misplaced\u001b[0m\u001b[0;34m(\u001b[0m\u001b[0mpuzzle\u001b[0m\u001b[0;34m,\u001b[0m \u001b[0mgoal\u001b[0m\u001b[0;34m)\u001b[0m\u001b[0;34m\u001b[0m\u001b[0;34m\u001b[0m\u001b[0m\n\u001b[0m\u001b[1;32m    115\u001b[0m \u001b[0mbestpath\u001b[0m \u001b[0;34m=\u001b[0m \u001b[0mbestsolution\u001b[0m\u001b[0;34m(\u001b[0m\u001b[0mstate\u001b[0m\u001b[0;34m)\u001b[0m\u001b[0;34m\u001b[0m\u001b[0;34m\u001b[0m\u001b[0m\n\u001b[1;32m    116\u001b[0m \u001b[0mprint\u001b[0m\u001b[0;34m(\u001b[0m\u001b[0mstr\u001b[0m\u001b[0;34m(\u001b[0m\u001b[0mbestpath\u001b[0m\u001b[0;34m)\u001b[0m\u001b[0;34m.\u001b[0m\u001b[0mreplace\u001b[0m\u001b[0;34m(\u001b[0m\u001b[0;34m'['\u001b[0m\u001b[0;34m,\u001b[0m \u001b[0;34m' '\u001b[0m\u001b[0;34m)\u001b[0m\u001b[0;34m.\u001b[0m\u001b[0mreplace\u001b[0m\u001b[0;34m(\u001b[0m\u001b[0;34m']'\u001b[0m\u001b[0;34m,\u001b[0m \u001b[0;34m''\u001b[0m\u001b[0;34m)\u001b[0m\u001b[0;34m)\u001b[0m\u001b[0;34m\u001b[0m\u001b[0;34m\u001b[0m\u001b[0m\n",
            "\u001b[0;32m<ipython-input-1-5bbd791540fa>\u001b[0m in \u001b[0;36mevaluvate_misplaced\u001b[0;34m(puzzle, goal)\u001b[0m\n\u001b[1;32m     50\u001b[0m   \u001b[0;32mwhile\u001b[0m \u001b[0;36m1\u001b[0m\u001b[0;34m:\u001b[0m\u001b[0;34m\u001b[0m\u001b[0;34m\u001b[0m\u001b[0m\n\u001b[1;32m     51\u001b[0m    \u001b[0mpriority\u001b[0m \u001b[0;34m=\u001b[0m \u001b[0mnp\u001b[0m\u001b[0;34m.\u001b[0m\u001b[0msort\u001b[0m\u001b[0;34m(\u001b[0m\u001b[0mpriority\u001b[0m\u001b[0;34m,\u001b[0m \u001b[0mkind\u001b[0m\u001b[0;34m=\u001b[0m\u001b[0;34m'mergesort'\u001b[0m\u001b[0;34m,\u001b[0m \u001b[0morder\u001b[0m\u001b[0;34m=\u001b[0m\u001b[0;34m[\u001b[0m\u001b[0;34m'fn'\u001b[0m\u001b[0;34m,\u001b[0m \u001b[0;34m'position'\u001b[0m\u001b[0;34m]\u001b[0m\u001b[0;34m)\u001b[0m\u001b[0;34m\u001b[0m\u001b[0;34m\u001b[0m\u001b[0m\n\u001b[0;32m---> 52\u001b[0;31m    \u001b[0mposition\u001b[0m\u001b[0;34m,\u001b[0m \u001b[0mfn\u001b[0m \u001b[0;34m=\u001b[0m \u001b[0mpriority\u001b[0m\u001b[0;34m[\u001b[0m\u001b[0;36m0\u001b[0m\u001b[0;34m]\u001b[0m\u001b[0;34m\u001b[0m\u001b[0;34m\u001b[0m\u001b[0m\n\u001b[0m\u001b[1;32m     53\u001b[0m \u001b[0;31m# sort priority queue using merge sort,the first element is picked for exploring.\u001b[0m\u001b[0;34m\u001b[0m\u001b[0;34m\u001b[0m\u001b[0m\n\u001b[1;32m     54\u001b[0m    \u001b[0mpriority\u001b[0m \u001b[0;34m=\u001b[0m \u001b[0mnp\u001b[0m\u001b[0;34m.\u001b[0m\u001b[0mdelete\u001b[0m\u001b[0;34m(\u001b[0m\u001b[0mpriority\u001b[0m\u001b[0;34m,\u001b[0m \u001b[0;36m0\u001b[0m\u001b[0;34m,\u001b[0m \u001b[0;36m0\u001b[0m\u001b[0;34m)\u001b[0m\u001b[0;34m\u001b[0m\u001b[0;34m\u001b[0m\u001b[0m\n",
            "\u001b[0;31mIndexError\u001b[0m: index 0 is out of bounds for axis 0 with size 0"
          ]
        }
      ]
    },
    {
      "cell_type": "code",
      "source": [
        "from queue import LifoQueue\n",
        "graph = {0:[1,2,3],\n",
        "         1:[0,2],\n",
        "         2:[1,3,5],\n",
        "         3:[0,2,4],\n",
        "         4:[3,5,7],\n",
        "         5:[2,4,6,7],\n",
        "         6:[5,7],\n",
        "         7:[]}\n",
        "\n",
        "print(\"The adjacency List representing the graph is:\")\n",
        "print(graph)\n",
        "\n",
        "def bfs(graph,source):\n",
        "   Q=Queue()\n",
        "   visited_vertices = set()\n",
        "   Q.put(source)\n",
        "   visited_vertices.update({source})\n",
        "   while not Q.empty():\n",
        "      vertex = Q.get()\n",
        "      print(vertex,end=\"-->\")\n",
        "      for u in graph[vertex]:\n",
        "          if u not in visited_vertices:\n",
        "            Q.put(u)\n",
        "            visited_vertices.update({u})\n",
        "\n",
        "   print(\"BFS traversal of graph with source 1 is:\")\n",
        "   bfs(graph,1)\n",
        "\n",
        "\n",
        "\n"
      ],
      "metadata": {
        "colab": {
          "base_uri": "https://localhost:8080/"
        },
        "id": "i0reFA6hemhU",
        "outputId": "fbce1bec-cc8e-4f85-ddd2-717f60ffa646"
      },
      "execution_count": null,
      "outputs": [
        {
          "output_type": "stream",
          "name": "stdout",
          "text": [
            "The adjacency List representing the graph is:\n",
            "{0: [1, 2, 3], 1: [0, 2], 2: [1, 3, 5], 3: [0, 2, 4], 4: [3, 5, 7], 5: [2, 4, 6, 7], 6: [5, 7], 7: []}\n"
          ]
        }
      ]
    },
    {
      "cell_type": "code",
      "source": [],
      "metadata": {
        "id": "TgOXMA3Aemps"
      },
      "execution_count": null,
      "outputs": []
    }
  ]
}